{
  "nbformat": 4,
  "nbformat_minor": 0,
  "metadata": {
    "coursera": {
      "course_slug": "tensor-flow-2-2",
      "graded_item_id": "4eYSM",
      "launcher_item_id": "HEV6h"
    },
    "kernelspec": {
      "display_name": "Python 3",
      "language": "python",
      "name": "python3"
    },
    "language_info": {
      "codemirror_mode": {
        "name": "ipython",
        "version": 3
      },
      "file_extension": ".py",
      "mimetype": "text/x-python",
      "name": "python",
      "nbconvert_exporter": "python",
      "pygments_lexer": "ipython3",
      "version": "3.7.1"
    },
    "colab": {
      "name": "Week 3 Programming Assignment.ipynb",
      "provenance": [],
      "collapsed_sections": [
        "gWObVg6DRfSi",
        "iRCN70xkRfSt",
        "U-4W2iICRfS3",
        "YFTEK7hnRfTJ",
        "Rm8gNoNJRfTT",
        "FQ_mAEoPRfTX",
        "IKfaWcCCRfTf",
        "4PJ4cU0YRfTo",
        "upDpsmf9RfT2",
        "2msBeLSoRfT7",
        "7A0FOxOTRfUc"
      ]
    },
    "accelerator": "GPU"
  },
  "cells": [
    {
      "cell_type": "markdown",
      "metadata": {
        "id": "wJQu9UWtRfRx"
      },
      "source": [
        "# Programming Assignment"
      ]
    },
    {
      "cell_type": "markdown",
      "metadata": {
        "id": "pFRRArflRfR1"
      },
      "source": [
        "## Language model for the Shakespeare dataset"
      ]
    },
    {
      "cell_type": "markdown",
      "metadata": {
        "id": "iPU9O33bRfR3"
      },
      "source": [
        "### Instructions\n",
        "\n",
        "In this notebook, you will use the text preprocessing tools and RNN models to build a character-level language model. You will then train your model on the works of Shakespeare, and use the network to generate your own text.\n",
        "\n",
        "Some code cells are provided you in the notebook. You should avoid editing provided code, and make sure to execute the cells in order to avoid unexpected errors. Some cells begin with the line: \n",
        "\n",
        "`#### GRADED CELL ####`\n",
        "\n",
        "Don't move or edit this first line - this is what the automatic grader looks for to recognise graded cells. These cells require you to write your own code to complete them, and are automatically graded when you submit the notebook. Don't edit the function name or signature provided in these cells, otherwise the automatic grader might not function properly. Inside these graded cells, you can use any functions or classes that are imported below, but make sure you don't use any variables that are outside the scope of the function.\n",
        "\n",
        "### How to submit\n",
        "\n",
        "Complete all the tasks you are asked for in the worksheet. When you have finished and are happy with your code, press the **Submit Assignment** button at the top of this notebook.\n",
        "\n",
        "### Let's get started!\n",
        "\n",
        "We'll start running some imports, and loading the dataset. Do not edit the existing imports in the following cell. If you would like to make further Tensorflow imports, you should add them here."
      ]
    },
    {
      "cell_type": "code",
      "metadata": {
        "id": "2j_QtDXtRfR4"
      },
      "source": [
        "#### PACKAGE IMPORTS ####\n",
        "\n",
        "# Run this cell first to import all required packages. Do not make any imports elsewhere in the notebook\n",
        "\n",
        "import tensorflow as tf\n",
        "from tensorflow.keras.preprocessing.text import Tokenizer\n",
        "from tensorflow.keras.preprocessing.sequence import pad_sequences\n",
        "from tensorflow.keras.models import Sequential\n",
        "from tensorflow.keras.layers import Dense, Embedding, GRU\n",
        "\n",
        "import json\n",
        "import matplotlib.pyplot as plt\n",
        "import numpy as np\n",
        "import os\n",
        "\n",
        "\n",
        "%matplotlib inline\n",
        "\n",
        "# If you would like to make further imports from tensorflow, add them here\n",
        "\n"
      ],
      "execution_count": 4,
      "outputs": []
    },
    {
      "cell_type": "markdown",
      "metadata": {
        "id": "r3wpZrx7RfR-"
      },
      "source": [
        "#### The Shakespeare dataset\n",
        "\n",
        "In this assignment, you will use a subset of the [Shakespeare dataset](http://shakespeare.mit.edu). It consists of a single text file with several excerpts concatenated together. The data is in raw text form, and so far has not yet had any preprocessing. \n",
        "\n",
        "Your goal is to construct an unsupervised character-level sequence model that can generate text according to a distribution learned from the dataset."
      ]
    },
    {
      "cell_type": "markdown",
      "metadata": {
        "id": "2XZu3DSPRkE4"
      },
      "source": [
        "#### Import the data\n",
        "\n",
        "The dataset required for this project can be downloaded from the following link:\n",
        "\n",
        "https://drive.google.com/open?id=1pQI1ryDnuMKl5FtgBI9k9vXQ65S8xLv2\n",
        "\n",
        "You should store this file in Drive for use in this Colab notebook."
      ]
    },
    {
      "cell_type": "code",
      "metadata": {
        "id": "3fRagWNBR0-E",
        "colab": {
          "base_uri": "https://localhost:8080/"
        },
        "outputId": "32732caa-3c56-4807-ece9-49fb7aad46d9"
      },
      "source": [
        "# Run this cell to connect to your Drive folder\n",
        "\n",
        "from google.colab import drive\n",
        "drive.mount('/content/gdrive')"
      ],
      "execution_count": 5,
      "outputs": [
        {
          "output_type": "stream",
          "text": [
            "Mounted at /content/gdrive\n"
          ],
          "name": "stdout"
        }
      ]
    },
    {
      "cell_type": "markdown",
      "metadata": {
        "id": "ppOL7TDHRfSA"
      },
      "source": [
        "#### Load and inspect the dataset"
      ]
    },
    {
      "cell_type": "code",
      "metadata": {
        "id": "XXwzWcB-RfSD"
      },
      "source": [
        "# Load the text file into a string\n",
        "data_path = 'gdrive/MyDrive/Colab Notebooks/data'\n",
        "file_path = os.path.join(data_path, 'Shakespeare.txt')\n",
        "with open(file_path, 'r', encoding='utf-8') as file:\n",
        "    text = file.read()"
      ],
      "execution_count": 6,
      "outputs": []
    },
    {
      "cell_type": "code",
      "metadata": {
        "id": "YzHw4wbCRfSH"
      },
      "source": [
        "# Create a list of chunks of text\n",
        "\n",
        "text_chunks = text.split('.')"
      ],
      "execution_count": 7,
      "outputs": []
    },
    {
      "cell_type": "markdown",
      "metadata": {
        "id": "pik73Zq2RfSO"
      },
      "source": [
        "To give you a feel for what the text looks like, we will print a few chunks from the list."
      ]
    },
    {
      "cell_type": "code",
      "metadata": {
        "id": "CMZj2MIYRfSP",
        "colab": {
          "base_uri": "https://localhost:8080/"
        },
        "outputId": "f0a640ef-8308-4949-9bed-a4a687d6097b"
      },
      "source": [
        "# Display some randomly selected text samples\n",
        "\n",
        "num_samples = 5\n",
        "inx = np.random.choice(len(text_chunks), num_samples, replace=False)\n",
        "for chunk in np.array(text_chunks)[inx]:\n",
        "    print(chunk)"
      ],
      "execution_count": 8,
      "outputs": [
        {
          "output_type": "stream",
          "text": [
            "\n",
            "We shall be much unfurnished for this time\n",
            "\n",
            "\n",
            "TRANIO:\n",
            "Is this your speeding? nay, then, good night our part!\n",
            "\n",
            "PETRUCHIO:\n",
            "Be patient, gentlemen; I choose her for myself:\n",
            "If she and I be pleased, what's that to you?\n",
            "'Tis bargain'd 'twixt us twain, being alone,\n",
            "That she shall still be curst in company\n",
            "\n",
            "\n",
            "JULIET:\n",
            "I will not fail: 'tis twenty years till then\n",
            "\n",
            "\n",
            "ANGELO:\n",
            "I am sorry that such sorrow I procure:\n",
            "And so deep sticks it in my penitent heart\n",
            "That I crave death more willingly than mercy;\n",
            "'Tis my deserving, and I do entreat it\n",
            "\n",
            "\n",
            "DUKE VINCENTIO:\n",
            "No more evasion:\n",
            "We have with a leaven'd and prepared choice\n",
            "Proceeded to you; therefore take your honours\n"
          ],
          "name": "stdout"
        }
      ]
    },
    {
      "cell_type": "markdown",
      "metadata": {
        "id": "QSxfAsFARfSX"
      },
      "source": [
        "#### Create a character-level tokenizer"
      ]
    },
    {
      "cell_type": "markdown",
      "metadata": {
        "id": "SBukx3SDRfSY"
      },
      "source": [
        "You should now write a function that returns a `Tokenizer` object. The function takes a list of strings as an argument, and should create a `Tokenizer` according to the following specification:\n",
        "\n",
        "* The number of tokens should be unlimited (there should be as many as required by the dataset).\n",
        "* Tokens should be created at the character level (not at the word level, which is the default behaviour).\n",
        "* No characters should be filtered out or ignored.\n",
        "* The original capitalization should be retained (do not convert the text to lower case)\n",
        "\n",
        "The `Tokenizer` should be fit to the `list_of_strings` argument and returned by the function. \n",
        "\n",
        "**Hint:** you may need to refer to the [documentation](https://www.tensorflow.org/api_docs/python/tf/keras/preprocessing/text/Tokenizer) for the `Tokenizer`."
      ]
    },
    {
      "cell_type": "code",
      "metadata": {
        "id": "Q8s2aR4oRfSb"
      },
      "source": [
        "#### GRADED CELL ####\n",
        "\n",
        "# Complete the following function.\n",
        "# Make sure not to change the function name or arguments.\n",
        "\n",
        "def create_character_tokenizer(list_of_strings):\n",
        "    \"\"\"\n",
        "    This function takes a list of strings as its argument. It should create \n",
        "    and return a Tokenizer according to the above specifications. \n",
        "    \"\"\"\n",
        "    tokenizer = Tokenizer(char_level=True, filters=None, lower=False)\n",
        "    tokenizer.fit_on_texts(list_of_strings)\n",
        "    return tokenizer"
      ],
      "execution_count": 9,
      "outputs": []
    },
    {
      "cell_type": "code",
      "metadata": {
        "id": "aKZpIcn_RfSf"
      },
      "source": [
        "# Get the tokenizer\n",
        "\n",
        "tokenizer = create_character_tokenizer(text_chunks)"
      ],
      "execution_count": 10,
      "outputs": []
    },
    {
      "cell_type": "markdown",
      "metadata": {
        "id": "gWObVg6DRfSi"
      },
      "source": [
        "#### Tokenize the text\n",
        "\n",
        "You should now write a function to use the tokenizer to map each string in `text_chunks` to its corresponding encoded sequence. The following function takes a fitted `Tokenizer` object in the first argument (as returned by `create_character_tokenizer`) and a list of strings in the second argument. The function should return a list of lists, where each sublist is a sequence of integer tokens encoding the text sequences according to the mapping stored in the tokenizer.\n",
        "\n",
        "**Hint:** you may need to refer to the [documentation](https://www.tensorflow.org/api_docs/python/tf/keras/preprocessing/text/Tokenizer) for the `Tokenizer`."
      ]
    },
    {
      "cell_type": "code",
      "metadata": {
        "id": "lkKDCvV1RfSj"
      },
      "source": [
        "#### GRADED CELL ####\n",
        "\n",
        "# Complete the following function.\n",
        "# Make sure not to change the function name or arguments.\n",
        "\n",
        "def strings_to_sequences(tokenizer, list_of_strings):\n",
        "    \"\"\"\n",
        "    This function takes a tokenizer object and a list of strings as its arguments.\n",
        "    It should use the tokenizer to map the text chunks to sequences of tokens and\n",
        "    then return this list of encoded sequences.\n",
        "    \"\"\"\n",
        "    return tokenizer.texts_to_sequences(list_of_strings)    \n",
        "    "
      ],
      "execution_count": 11,
      "outputs": []
    },
    {
      "cell_type": "code",
      "metadata": {
        "id": "hhYb2mSlRfSo"
      },
      "source": [
        "# Encode the text chunks into tokens\n",
        "\n",
        "seq_chunks = strings_to_sequences(tokenizer, text_chunks)"
      ],
      "execution_count": 12,
      "outputs": []
    },
    {
      "cell_type": "markdown",
      "metadata": {
        "id": "iRCN70xkRfSt"
      },
      "source": [
        "#### Pad the encoded sequences and store them in a numpy array"
      ]
    },
    {
      "cell_type": "markdown",
      "metadata": {
        "id": "3ucADRYoRfSu"
      },
      "source": [
        "Since not all of the text chunks are the same length, you will need to pad them in order to train on batches. You should now complete the following function, which takes the list of lists of tokens, and creates a single numpy array with the token sequences in the rows, according to the following specification:\n",
        "\n",
        "* The longest allowed sequence should be 500 tokens. Any sequence that is longer should be shortened by truncating the beginning of the sequence.\n",
        "* Use zeros for padding the sequences. The zero padding should be placed before the sequences as required.\n",
        "\n",
        "The function should then return the resulting numpy array.\n",
        "\n",
        "**Hint:** you may want to refer to the [documentation](https://www.tensorflow.org/api_docs/python/tf/keras/preprocessing/sequence/pad_sequences) for the `pad_sequences` function."
      ]
    },
    {
      "cell_type": "code",
      "metadata": {
        "id": "zLf-9KxWRfSw"
      },
      "source": [
        "#### GRADED CELL ####\n",
        "\n",
        "# Complete the following function.\n",
        "# Make sure not to change the function name or arguments.\n",
        "\n",
        "def make_padded_dataset(sequence_chunks):\n",
        "    \"\"\"\n",
        "    This function takes a list of lists of tokenized sequences, and transforms\n",
        "    them into a 2D numpy array, padding the sequences as necessary according to\n",
        "    the above specification. The function should then return the numpy array.\n",
        "    \"\"\"\n",
        "    return np.array(pad_sequences(sequence_chunks, maxlen=500))\n",
        "    "
      ],
      "execution_count": 13,
      "outputs": []
    },
    {
      "cell_type": "code",
      "metadata": {
        "id": "IKB26MgJRfS0"
      },
      "source": [
        "# Pad the token sequence chunks and get the numpy array\n",
        "\n",
        "padded_sequences = make_padded_dataset(seq_chunks)"
      ],
      "execution_count": 14,
      "outputs": []
    },
    {
      "cell_type": "markdown",
      "metadata": {
        "id": "U-4W2iICRfS3"
      },
      "source": [
        "#### Create model inputs and targets\n",
        "\n",
        "Now you are ready to build your RNN model. The model will receive a sequence of characters and predict the next character in the sequence. At training time, the model can be passed an input sequence, with the target sequence is shifted by one.\n",
        "\n",
        "For example, the expression `To be or not to be` appears in Shakespeare's play 'Hamlet'. Given input `To be or not to b`, the correct prediction is `o be or not to be`. Notice that the prediction is the same length as the input!\n",
        "\n",
        "![sequence_prediction_example](data/rnn_example.png)\n",
        "\n",
        "You should now write the following function to create an input and target array from the current `padded_sequences` array. The function has a single argument that is a 2D numpy array of shape `(num_examples, max_seq_len)`. It should fulfil the following specification:\n",
        "\n",
        "* The function should return an input array and an output array, both of size `(num_examples, max_seq_len - 1)`.\n",
        "* The input array should contain the first `max_seq_len - 1` tokens of each sequence. \n",
        "* The output array should contain the last `max_seq_len - 1` tokens of each sequence. \n",
        "\n",
        "The function should then return the tuple `(input_array, output_array)`. Note that it is possible to complete this function using numpy indexing alone!"
      ]
    },
    {
      "cell_type": "code",
      "metadata": {
        "id": "pzLY5mT3RfS5"
      },
      "source": [
        "#### GRADED CELL ####\n",
        "\n",
        "# Complete the following function.\n",
        "# Make sure not to change the function name or arguments.\n",
        "\n",
        "def create_inputs_and_targets(array_of_sequences):\n",
        "    \"\"\"\n",
        "    This function takes a 2D numpy array of token sequences, and returns a tuple of two\n",
        "    elements: the first element is the input array and the second element is the output\n",
        "    array, which are defined according to the above specification.\n",
        "    \"\"\"   \n",
        "    inputs = array_of_sequences[:, :-1]\n",
        "    targets = array_of_sequences[:, 1:]\n",
        "    return inputs, targets\n",
        "    "
      ],
      "execution_count": 15,
      "outputs": []
    },
    {
      "cell_type": "code",
      "metadata": {
        "id": "MzHXg9HcRfTB"
      },
      "source": [
        "# Create the input and output arrays\n",
        "\n",
        "input_seq, target_seq = create_inputs_and_targets(padded_sequences)"
      ],
      "execution_count": 16,
      "outputs": []
    },
    {
      "cell_type": "markdown",
      "metadata": {
        "id": "YFTEK7hnRfTJ"
      },
      "source": [
        "#### Preprocess sequence array for stateful RNN\n",
        "\n",
        "We will build our RNN language model to be stateful, so that the internal state of the RNN will be maintained across batches. For this to be effective, we need to make sure that each element of every batch follows on from the corresponding element of the preceding batch (you may want to look back at the \"Stateful RNNs\" reading notebook earlier in the week).\n",
        "\n",
        "The following code processes the input and output sequence arrays so that they are ready to be split into batches for training a stateful RNN, by re-ordering the sequence examples (the rows) according to a specified batch size. "
      ]
    },
    {
      "cell_type": "code",
      "metadata": {
        "id": "S4gsVamxRfTK"
      },
      "source": [
        "# Fix the batch size for training\n",
        "\n",
        "batch_size = 32"
      ],
      "execution_count": 17,
      "outputs": []
    },
    {
      "cell_type": "code",
      "metadata": {
        "id": "cJu9VgWFRfTP"
      },
      "source": [
        "# Prepare input and output arrays for training the stateful RNN\n",
        "\n",
        "num_examples = input_seq.shape[0]\n",
        "\n",
        "num_processed_examples = num_examples - (num_examples % batch_size)\n",
        "\n",
        "input_seq = input_seq[:num_processed_examples]\n",
        "target_seq = target_seq[:num_processed_examples]\n",
        "\n",
        "steps = int(num_processed_examples / 32)  # steps per epoch\n",
        "\n",
        "inx = np.empty((0,), dtype=np.int32)\n",
        "for i in range(steps):\n",
        "    inx = np.concatenate((inx, i + np.arange(0, num_processed_examples, steps)))\n",
        "\n",
        "input_seq_stateful = input_seq[inx]\n",
        "target_seq_stateful = target_seq[inx]"
      ],
      "execution_count": 18,
      "outputs": []
    },
    {
      "cell_type": "markdown",
      "metadata": {
        "id": "Rm8gNoNJRfTT"
      },
      "source": [
        "#### Split the data into training and validation sets\n",
        "\n",
        "We will set aside approximately 20% of the data for validation."
      ]
    },
    {
      "cell_type": "code",
      "metadata": {
        "id": "iiLWfyemRfTU"
      },
      "source": [
        "# Create the training and validation splits\n",
        "\n",
        "num_train_examples = int(batch_size * ((0.8 * num_processed_examples) // batch_size))\n",
        "\n",
        "input_train = input_seq_stateful[:num_train_examples]\n",
        "target_train = target_seq_stateful[:num_train_examples]\n",
        "\n",
        "input_valid = input_seq_stateful[num_train_examples:]\n",
        "target_valid = target_seq_stateful[num_train_examples:]"
      ],
      "execution_count": 19,
      "outputs": []
    },
    {
      "cell_type": "markdown",
      "metadata": {
        "id": "FQ_mAEoPRfTX"
      },
      "source": [
        "#### Create training and validation Dataset objects\n",
        "\n",
        "You should now write a function to take the training and validation input and target arrays, and create training and validation `tf.data.Dataset` objects. The function takes an input array and target array in the first two arguments, and the batch size in the third argument. Your function should do the following:\n",
        "\n",
        "* Create a `Dataset` using the `from_tensor_slices` static method, passing in a tuple of the input and output numpy arrays.\n",
        "* Batch the `Dataset` using the `batch_size` argument, setting `drop_remainder` to `True`. \n",
        "\n",
        "The function should then return the `Dataset` object."
      ]
    },
    {
      "cell_type": "code",
      "metadata": {
        "id": "_DJAjEHKRfTY"
      },
      "source": [
        "#### GRADED CELL ####\n",
        "\n",
        "# Complete the following function.\n",
        "# Make sure not to change the function name or arguments.\n",
        "\n",
        "def make_Dataset(input_array, target_array, batch_size):\n",
        "    \"\"\"\n",
        "    This function takes two 2D numpy arrays in the first two arguments, and an integer\n",
        "    batch_size in the third argument. It should create and return a Dataset object \n",
        "    using the two numpy arrays and batch size according to the above specification.\n",
        "    \"\"\"\n",
        "    return tf.data.Dataset.from_tensor_slices((input_array, target_array)).batch(batch_size, drop_remainder=True)  \n",
        "    "
      ],
      "execution_count": 20,
      "outputs": []
    },
    {
      "cell_type": "code",
      "metadata": {
        "id": "rzqK_qVARfTc"
      },
      "source": [
        "# Create the training and validation Datasets\n",
        "\n",
        "train_data = make_Dataset(input_train, target_train, batch_size)\n",
        "valid_data = make_Dataset(input_valid, target_valid, batch_size)"
      ],
      "execution_count": 21,
      "outputs": []
    },
    {
      "cell_type": "markdown",
      "metadata": {
        "id": "IKfaWcCCRfTf"
      },
      "source": [
        "#### Build the recurrent neural network model"
      ]
    },
    {
      "cell_type": "markdown",
      "metadata": {
        "id": "KcPyteqDRfTh"
      },
      "source": [
        "You are now ready to build your RNN character-level language model. You should write the following function to build the model; the function takes arguments for the batch size and vocabulary size (number of tokens). Using the Sequential API, your function should build your model according to the following specifications:\n",
        "\n",
        "* The first layer should be an Embedding layer with an embedding dimension of 256 and set the vocabulary size to `vocab_size` from the function argument.\n",
        "* The Embedding layer should also mask the zero padding in the input sequences.\n",
        "* The Embedding layer should also set the `batch_input_shape` to `(batch_size, None)` (a fixed batch size is required for stateful RNNs).\n",
        "* The next layer should be a (uni-directional) GRU layer with 1024 units, set to be a stateful RNN layer.\n",
        "* The GRU layer should return the full sequence, instead of just the output state at the final time step.\n",
        "* The final layer should be a Dense layer with `vocab_size` units and no activation function.\n",
        "\n",
        "In total, the network should have 3 layers."
      ]
    },
    {
      "cell_type": "code",
      "metadata": {
        "id": "oauekqOSRfTi"
      },
      "source": [
        "#### GRADED CELL ####\n",
        "\n",
        "# Complete the following function.\n",
        "# Make sure not to change the function name or arguments.\n",
        "\n",
        "def get_model(vocab_size, batch_size):\n",
        "    \"\"\"\n",
        "    This function takes a vocabulary size and batch size, and builds and returns a \n",
        "    Sequential model according to the above specification.\n",
        "    \"\"\"\n",
        "    return Sequential([\n",
        "        Embedding(\n",
        "            input_dim = vocab_size,\n",
        "            output_dim = 256,\n",
        "            mask_zero = True,\n",
        "            batch_input_shape = (batch_size, None),\n",
        "        ),\n",
        "        GRU(\n",
        "            1024,\n",
        "            stateful=True,\n",
        "            return_sequences=True,\n",
        "        ),\n",
        "        Dense(vocab_size),\n",
        "    ])\n",
        "    "
      ],
      "execution_count": 22,
      "outputs": []
    },
    {
      "cell_type": "code",
      "metadata": {
        "id": "AmmEfYo-RfTl",
        "colab": {
          "base_uri": "https://localhost:8080/"
        },
        "outputId": "b7370a1a-bad8-41d3-eeed-1cdf6df5b4c8"
      },
      "source": [
        "# Build the model and print the model summary\n",
        "\n",
        "model = get_model(len(tokenizer.word_index) + 1, batch_size)\n",
        "model.summary()"
      ],
      "execution_count": 23,
      "outputs": [
        {
          "output_type": "stream",
          "text": [
            "Model: \"sequential\"\n",
            "_________________________________________________________________\n",
            "Layer (type)                 Output Shape              Param #   \n",
            "=================================================================\n",
            "embedding (Embedding)        (32, None, 256)           16640     \n",
            "_________________________________________________________________\n",
            "gru (GRU)                    (32, None, 1024)          3938304   \n",
            "_________________________________________________________________\n",
            "dense (Dense)                (32, None, 65)            66625     \n",
            "=================================================================\n",
            "Total params: 4,021,569\n",
            "Trainable params: 4,021,569\n",
            "Non-trainable params: 0\n",
            "_________________________________________________________________\n"
          ],
          "name": "stdout"
        }
      ]
    },
    {
      "cell_type": "markdown",
      "metadata": {
        "id": "4PJ4cU0YRfTo"
      },
      "source": [
        "#### Compile and train the model\n",
        "\n",
        "You are now ready to compile and train the model. For this model and dataset, the training time is very long. Therefore for this assignment it is not a requirement to train the model. We have pre-trained a model for you (using the code below) and saved the model weights, which can be loaded to get the model predictions. \n",
        "\n",
        "It is recommended to use accelerator hardware (e.g. using Colab) when training this model. It would also be beneficial to increase the size of the model, e.g. by stacking extra recurrent layers."
      ]
    },
    {
      "cell_type": "code",
      "metadata": {
        "id": "62k8AD8eRfTp"
      },
      "source": [
        "# Choose whether to train a new model or load the pre-trained model\n",
        "\n",
        "skip_training = False"
      ],
      "execution_count": 24,
      "outputs": []
    },
    {
      "cell_type": "code",
      "metadata": {
        "id": "DJhnIUHSRfTt",
        "colab": {
          "base_uri": "https://localhost:8080/"
        },
        "outputId": "b54f1c25-75e9-4a17-c84b-74af92a80ca8"
      },
      "source": [
        "# Compile and train the model, or load pre-trained weights\n",
        "\n",
        "if not skip_training:\n",
        "    checkpoint_callback=tf.keras.callbacks.ModelCheckpoint(filepath='./models/ckpt',\n",
        "                                                           save_weights_only=True,\n",
        "                                                           save_best_only=True)\n",
        "    model.compile(optimizer='adam', loss=tf.keras.losses.SparseCategoricalCrossentropy(from_logits=True),\n",
        "                  metrics=['sparse_categorical_accuracy'])\n",
        "    history = model.fit(train_data, epochs=15, validation_data=valid_data, \n",
        "                        validation_steps=50, callbacks=[checkpoint_callback])"
      ],
      "execution_count": 25,
      "outputs": [
        {
          "output_type": "stream",
          "text": [
            "Epoch 1/15\n",
            "196/196 [==============================] - 93s 453ms/step - loss: 0.8069 - sparse_categorical_accuracy: 0.2369 - val_loss: 0.5745 - val_sparse_categorical_accuracy: 0.4011\n",
            "Epoch 2/15\n",
            "196/196 [==============================] - 89s 452ms/step - loss: 0.5309 - sparse_categorical_accuracy: 0.4300 - val_loss: 0.4773 - val_sparse_categorical_accuracy: 0.4926\n",
            "Epoch 3/15\n",
            "196/196 [==============================] - 89s 453ms/step - loss: 0.4485 - sparse_categorical_accuracy: 0.5124 - val_loss: 0.4309 - val_sparse_categorical_accuracy: 0.5365\n",
            "Epoch 4/15\n",
            "196/196 [==============================] - 88s 451ms/step - loss: 0.4048 - sparse_categorical_accuracy: 0.5550 - val_loss: 0.4060 - val_sparse_categorical_accuracy: 0.5617\n",
            "Epoch 5/15\n",
            "196/196 [==============================] - 87s 445ms/step - loss: 0.3777 - sparse_categorical_accuracy: 0.5805 - val_loss: 0.3929 - val_sparse_categorical_accuracy: 0.5745\n",
            "Epoch 6/15\n",
            "196/196 [==============================] - 86s 441ms/step - loss: 0.3573 - sparse_categorical_accuracy: 0.5997 - val_loss: 0.3859 - val_sparse_categorical_accuracy: 0.5818\n",
            "Epoch 7/15\n",
            "196/196 [==============================] - 87s 445ms/step - loss: 0.3406 - sparse_categorical_accuracy: 0.6156 - val_loss: 0.3830 - val_sparse_categorical_accuracy: 0.5849\n",
            "Epoch 8/15\n",
            "196/196 [==============================] - 86s 441ms/step - loss: 0.3257 - sparse_categorical_accuracy: 0.6305 - val_loss: 0.3838 - val_sparse_categorical_accuracy: 0.5858\n",
            "Epoch 9/15\n",
            "196/196 [==============================] - 87s 443ms/step - loss: 0.3104 - sparse_categorical_accuracy: 0.6463 - val_loss: 0.3883 - val_sparse_categorical_accuracy: 0.5845\n",
            "Epoch 10/15\n",
            "196/196 [==============================] - 86s 441ms/step - loss: 0.2956 - sparse_categorical_accuracy: 0.6621 - val_loss: 0.3965 - val_sparse_categorical_accuracy: 0.5827\n",
            "Epoch 11/15\n",
            "196/196 [==============================] - 87s 443ms/step - loss: 0.2825 - sparse_categorical_accuracy: 0.6762 - val_loss: 0.4057 - val_sparse_categorical_accuracy: 0.5781\n",
            "Epoch 12/15\n",
            "196/196 [==============================] - 87s 442ms/step - loss: 0.2724 - sparse_categorical_accuracy: 0.6859 - val_loss: 0.4200 - val_sparse_categorical_accuracy: 0.5670\n",
            "Epoch 13/15\n",
            "196/196 [==============================] - 87s 442ms/step - loss: 0.2619 - sparse_categorical_accuracy: 0.6980 - val_loss: 0.4256 - val_sparse_categorical_accuracy: 0.5677\n",
            "Epoch 14/15\n",
            "196/196 [==============================] - 87s 444ms/step - loss: 0.2501 - sparse_categorical_accuracy: 0.7112 - val_loss: 0.4340 - val_sparse_categorical_accuracy: 0.5652\n",
            "Epoch 15/15\n",
            "196/196 [==============================] - 87s 443ms/step - loss: 0.2421 - sparse_categorical_accuracy: 0.7197 - val_loss: 0.4419 - val_sparse_categorical_accuracy: 0.5652\n"
          ],
          "name": "stdout"
        }
      ]
    },
    {
      "cell_type": "code",
      "metadata": {
        "id": "yqjTlQyoRfTx"
      },
      "source": [
        "# Save model history as a json file, or load it if using pre-trained weights\n",
        "\n",
        "if not skip_training:\n",
        "    history_dict = dict()\n",
        "    for k, v in history.history.items():\n",
        "        history_dict[k] = [float(val) for val in history.history[k]]\n",
        "    with open('models/history.json', 'w+') as json_file:\n",
        "        json.dump(history_dict, json_file, sort_keys=True, indent=4)\n",
        "else:\n",
        "    with open('models/history.json', 'r') as json_file:\n",
        "        history_dict = json.load(json_file)"
      ],
      "execution_count": 37,
      "outputs": []
    },
    {
      "cell_type": "markdown",
      "metadata": {
        "id": "upDpsmf9RfT2"
      },
      "source": [
        "#### Plot the learning curves"
      ]
    },
    {
      "cell_type": "code",
      "metadata": {
        "id": "gGpPk5bbRfT3",
        "colab": {
          "base_uri": "https://localhost:8080/",
          "height": 350
        },
        "outputId": "e4c40e7d-84df-4c0b-c060-35ee82709f58"
      },
      "source": [
        "# Run this cell to plot accuracy vs epoch and loss vs epoch\n",
        "\n",
        "plt.figure(figsize=(15,5))\n",
        "plt.subplot(121)\n",
        "plt.plot(history_dict['sparse_categorical_accuracy'])\n",
        "plt.plot(history_dict['val_sparse_categorical_accuracy'])\n",
        "plt.title('Accuracy vs. epochs')\n",
        "plt.ylabel('Accuracy')\n",
        "plt.xlabel('Epoch')\n",
        "plt.xticks(np.arange(len(history_dict['sparse_categorical_accuracy'])))\n",
        "ax = plt.gca()\n",
        "ax.set_xticklabels(1 + np.arange(len(history_dict['sparse_categorical_accuracy'])))\n",
        "plt.legend(['Training', 'Validation'], loc='lower right')\n",
        "\n",
        "plt.subplot(122)\n",
        "plt.plot(history_dict['loss'])\n",
        "plt.plot(history_dict['val_loss'])\n",
        "plt.title('Loss vs. epochs')\n",
        "plt.ylabel('Loss')\n",
        "plt.xlabel('Epoch')\n",
        "plt.xticks(np.arange(len(history_dict['sparse_categorical_accuracy'])))\n",
        "ax = plt.gca()\n",
        "ax.set_xticklabels(1 + np.arange(len(history_dict['sparse_categorical_accuracy'])))\n",
        "plt.legend(['Training', 'Validation'], loc='upper right')\n",
        "plt.show() "
      ],
      "execution_count": 38,
      "outputs": [
        {
          "output_type": "display_data",
          "data": {
            "image/png": "[encoded data removed]",
            "text/plain": [
              "<Figure size 1080x360 with 2 Axes>"
            ]
          },
          "metadata": {
            "tags": [],
            "needs_background": "light"
          }
        }
      ]
    },
    {
      "cell_type": "markdown",
      "metadata": {
        "id": "2msBeLSoRfT7"
      },
      "source": [
        "#### Write a text generation algorithm\n",
        "\n",
        "You can now use the model to generate text! In order to generate a single text sequence, the model needs to be rebuilt with a batch size of 1."
      ]
    },
    {
      "cell_type": "code",
      "metadata": {
        "id": "zzQW69qxRfT_",
        "colab": {
          "base_uri": "https://localhost:8080/"
        },
        "outputId": "423b7249-b171-49f0-b515-bff5200f7540"
      },
      "source": [
        "# Re-build the model and load the saved weights\n",
        "\n",
        "model = get_model(len(tokenizer.word_index) + 1, batch_size=1)\n",
        "model.load_weights(tf.train.latest_checkpoint('./models/'))"
      ],
      "execution_count": 28,
      "outputs": [
        {
          "output_type": "execute_result",
          "data": {
            "text/plain": [
              "<tensorflow.python.training.tracking.util.CheckpointLoadStatus at 0x7f27f659bf28>"
            ]
          },
          "metadata": {
            "tags": []
          },
          "execution_count": 28
        }
      ]
    },
    {
      "cell_type": "markdown",
      "metadata": {
        "id": "TM3LHQAgRfUD"
      },
      "source": [
        "An algorithm to generate text is as follows:\n",
        "\n",
        "1. Specify a seed string (e.g. `'ROMEO:'`) to get the network started, and a define number of characters for the model to generate, `num_generation_steps`.\n",
        "2. Tokenize this sentence to obtain a list containing one list of the integer tokens.\n",
        "3. Reset the initial state of the network. \n",
        "4. Convert the token list into a Tensor (or numpy array) and pass it to your model as a batch of size one.\n",
        "5. Get the model prediction (logits) for the last time step and extract the state of the recurrent layer.\n",
        "6. Use the logits to construct a categorical distribution and sample a token from it.\n",
        "7. Repeat the following for `num_generation_steps - 1` steps:\n",
        "\n",
        "    1. Use the saved state of the recurrent layer and the last sampled token to get new logit predictions\n",
        "    2. Use the logits to construct a new categorical distribution and sample a token from it.\n",
        "    3. Save the updated state of the recurrent layer.    \n",
        "\n",
        "8. Take the final list of tokens and convert to text using the Tokenizer.\n",
        "\n",
        "Note that the internal state of the recurrent layer can be accessed using the `states` property. For the GRU layer, it is a list of one variable:"
      ]
    },
    {
      "cell_type": "code",
      "metadata": {
        "id": "DDbzdt0LRfUE",
        "colab": {
          "base_uri": "https://localhost:8080/"
        },
        "outputId": "b2526158-4331-47cf-c431-7ab8e4f0eb51"
      },
      "source": [
        "# Inspect the model's current recurrent state\n",
        "\n",
        "model.layers[1].states"
      ],
      "execution_count": 39,
      "outputs": [
        {
          "output_type": "execute_result",
          "data": {
            "text/plain": [
              "[<tf.Variable 'gru_1/Variable:0' shape=(1, 1024) dtype=float32, numpy=\n",
              " array([[ 0.19930696,  0.22795428,  0.07871176, ..., -0.10529609,\n",
              "         -0.6119879 ,  0.1283985 ]], dtype=float32)>]"
            ]
          },
          "metadata": {
            "tags": []
          },
          "execution_count": 39
        }
      ]
    },
    {
      "cell_type": "markdown",
      "metadata": {
        "id": "2KvmtkvrRfUI"
      },
      "source": [
        "We will break the algorithm down into two steps. First, you should now complete the following function that takes a sequence of tokens of any length and returns the model's prediction (the logits) for the last time step. The specification is as follows:\n",
        "\n",
        "* The token sequence will be a python list, containing one list of integer tokens, e.g. `[[1, 2, 3, 4]]`\n",
        "* The function should convert the list into a 2D Tensor or numpy array\n",
        "* If the function argument `initial_state` is `None`, then the function should reset the state of the recurrent layer to zeros.\n",
        "* Otherwise, if the function argument `initial_state` is a 2D Tensor or numpy array, assign the value of the internal state of the GRU layer to this argument.\n",
        "* Get the model's prediction (logits) for the last time step only.\n",
        "\n",
        "The function should then return the logits as a 2D numpy array, where the first dimension is equal to 1 (batch size).\n",
        "\n",
        "**Hint:** the internal state of the recurrent can be reset to zeros using the `reset_states` method."
      ]
    },
    {
      "cell_type": "code",
      "metadata": {
        "id": "3aHg6y44RfUJ"
      },
      "source": [
        "#### GRADED CELL ####\n",
        "\n",
        "# Complete the following function.\n",
        "# Make sure not to change the function name or arguments.\n",
        "\n",
        "def get_logits(model, token_sequence, initial_state=None):\n",
        "    \"\"\"\n",
        "    This function takes a model object, a token sequence and an optional initial\n",
        "    state for the recurrent layer. The function should return the logits prediction\n",
        "    for the final time step as a 2D numpy array.\n",
        "    \"\"\"\n",
        "    if initial_state is None:\n",
        "        model.layers[1].reset_states()\n",
        "    else:\n",
        "        model.layers[1].reset_states(initial_state)\n",
        "    \n",
        "    pred = model(np.array(token_sequence))\n",
        "    return pred[:,-1,:].numpy()\n",
        "    "
      ],
      "execution_count": 40,
      "outputs": []
    },
    {
      "cell_type": "code",
      "metadata": {
        "id": "La2CNRzqRfUN",
        "colab": {
          "base_uri": "https://localhost:8080/"
        },
        "outputId": "7139bf51-4d15-4db4-9fc6-34a114c94f22"
      },
      "source": [
        "# Test the get_logits function by passing a dummy token sequence\n",
        "\n",
        "dummy_initial_state = tf.random.normal(model.layers[1].states[0].shape)\n",
        "get_logits(model, [[1, 2, 3, 4]], initial_state=dummy_initial_state)"
      ],
      "execution_count": 41,
      "outputs": [
        {
          "output_type": "execute_result",
          "data": {
            "text/plain": [
              "array([[-4.850497  ,  1.6797154 ,  2.1464632 , -0.9627193 ,  3.3451703 ,\n",
              "         0.72348654, -5.629959  ,  3.1024013 ,  6.05051   ,  4.831618  ,\n",
              "         0.97682047,  2.161339  ,  4.9457183 , -0.03369265,  4.333738  ,\n",
              "         4.041174  , -2.013072  ,  2.1669703 , -0.447958  ,  3.9308648 ,\n",
              "         1.4014672 , -0.45289227, -6.9281297 ,  2.3466833 ,  3.328156  ,\n",
              "         1.1844393 , -6.2727404 , -0.61374176, -1.4300199 , -4.7221456 ,\n",
              "         3.65073   , -7.8514357 , -5.3718    , -3.7698083 , -5.883107  ,\n",
              "        -1.4904863 , -6.2603393 , -5.9304543 ,  1.237475  , -6.289282  ,\n",
              "        -6.591115  , -8.003659  , -5.4921904 , -6.548571  ,  1.2129251 ,\n",
              "        -5.737729  ,  2.1950583 , -8.25998   , -1.3440381 , -5.111406  ,\n",
              "        -9.707927  , -3.124231  , -7.892312  , -5.4062734 , -2.9318354 ,\n",
              "        -1.9090118 , -1.8344626 , -0.14442997, -7.1793237 , -6.8902674 ,\n",
              "        -4.545043  , -4.420635  , -5.4670277 , -4.9332943 , -7.0972595 ]],\n",
              "      dtype=float32)"
            ]
          },
          "metadata": {
            "tags": []
          },
          "execution_count": 41
        }
      ]
    },
    {
      "cell_type": "markdown",
      "metadata": {
        "id": "KcMB8Yv5RfUQ"
      },
      "source": [
        "You should now write a function that takes a logits prediction similar to the above, uses it to create a categorical distribution, and samples a token from this distribution. The following function takes a 2D numpy array `logits` as an argument, and should return a single integer prediction that is sampled from the categorical distribution. \n",
        "\n",
        "**Hint:** you might find the `tf.random.categorical` function useful for this; see the documentation [here](https://www.tensorflow.org/api_docs/python/tf/random/categorical)."
      ]
    },
    {
      "cell_type": "code",
      "metadata": {
        "id": "LObVBMdzRfUS"
      },
      "source": [
        "#### GRADED CELL ####\n",
        "\n",
        "# Complete the following function.\n",
        "# Make sure not to change the function name or arguments.\n",
        "\n",
        "def sample_token(logits):\n",
        "    \"\"\"\n",
        "    This function takes a 2D numpy array as an input, and constructs a \n",
        "    categorical distribution using it. It should then sample from this\n",
        "    distribution and return the sample as a single integer.\n",
        "    \"\"\"\n",
        "    return int(tf.random.categorical(logits, 1))\n",
        "    "
      ],
      "execution_count": 42,
      "outputs": []
    },
    {
      "cell_type": "code",
      "metadata": {
        "id": "MrgPsuOYRfUV",
        "colab": {
          "base_uri": "https://localhost:8080/"
        },
        "outputId": "968d2e0f-567a-49dd-84a9-b8da544ed84b"
      },
      "source": [
        "# Test the sample_token function by passing dummy logits\n",
        "\n",
        "dummy_initial_state = tf.random.normal(model.layers[1].states[0].shape)\n",
        "dummy_logits = get_logits(model, [[1, 2, 3, 4]], initial_state=dummy_initial_state)\n",
        "sample_token(dummy_logits)"
      ],
      "execution_count": 43,
      "outputs": [
        {
          "output_type": "execute_result",
          "data": {
            "text/plain": [
              "8"
            ]
          },
          "metadata": {
            "tags": []
          },
          "execution_count": 43
        }
      ]
    },
    {
      "cell_type": "code",
      "metadata": {
        "id": "Q23e4MNpRfUY",
        "colab": {
          "base_uri": "https://localhost:8080/"
        },
        "outputId": "b1efa338-572a-47d1-b86b-81e9a57ddf12"
      },
      "source": [
        "logits_size = dummy_logits.shape[1]\n",
        "dummy_logits = -np.inf*np.ones((1, logits_size))\n",
        "dummy_logits[0, 20] = 0\n",
        "sample_token(dummy_logits)\n",
        "random_inx = np.random.choice(logits_size, 2, replace=False)\n",
        "random_inx1, random_inx2 = random_inx[0], random_inx[1]\n",
        "print(random_inx1, random_inx2)\n",
        "dummy_logits = -np.inf*np.ones((1, logits_size))\n",
        "dummy_logits[0, random_inx1] = 0\n",
        "dummy_logits[0, random_inx2] = 0\n",
        "sampled_token = []\n",
        "for _ in range(100):\n",
        "    sampled_token.append(sample_token(dummy_logits))\n",
        "    \n",
        "l_tokens, l_counts = np.unique(np.array(sampled_token), return_counts=True)\n",
        "len(l_tokens) == 2"
      ],
      "execution_count": 44,
      "outputs": [
        {
          "output_type": "stream",
          "text": [
            "51 48\n"
          ],
          "name": "stdout"
        },
        {
          "output_type": "execute_result",
          "data": {
            "text/plain": [
              "True"
            ]
          },
          "metadata": {
            "tags": []
          },
          "execution_count": 44
        }
      ]
    },
    {
      "cell_type": "markdown",
      "metadata": {
        "id": "7A0FOxOTRfUc"
      },
      "source": [
        "#### Generate text from the model\n",
        "\n",
        "You are now ready to generate text from the model!"
      ]
    },
    {
      "cell_type": "code",
      "metadata": {
        "id": "KgXNTiaYRfUd"
      },
      "source": [
        "# Create a seed string and number of generation steps\n",
        "\n",
        "init_string = 'ROMEO:'\n",
        "num_generation_steps = 1000"
      ],
      "execution_count": 45,
      "outputs": []
    },
    {
      "cell_type": "code",
      "metadata": {
        "id": "6jm4JeyyRfUf",
        "colab": {
          "base_uri": "https://localhost:8080/"
        },
        "outputId": "22004b49-29ee-483d-9087-ed4483b0e93c"
      },
      "source": [
        "# Use the model to generate a token sequence\n",
        "\n",
        "token_sequence = tokenizer.texts_to_sequences([init_string])\n",
        "initial_state = None\n",
        "input_sequence = token_sequence\n",
        "\n",
        "for _ in range(num_generation_steps):\n",
        "    logits = get_logits(model, input_sequence, initial_state=initial_state)\n",
        "    sampled_token = sample_token(logits)\n",
        "    token_sequence[0].append(sampled_token)\n",
        "    input_sequence = [[sampled_token]]\n",
        "    initial_state = model.layers[1].states[0].numpy()\n",
        "    \n",
        "print(tokenizer.sequences_to_texts(token_sequence)[0][::2])"
      ],
      "execution_count": 46,
      "outputs": [
        {
          "output_type": "stream",
          "text": [
            "ROMEO:\n",
            "Which, would elsw God fell Warwick and his oath\n",
            "Ahmour the end of his preson with this,\n",
            "To exchange at the sid: because the seegh,\n",
            "Whom, by your leave, the sacred things,\n",
            "Camillo is a while found wherein the geod,\n",
            "Which of denied to look af, treathest gold,\n",
            "That I misseab'd my weakness in hell,\n",
            "One young and very head yea so life,\n",
            "And two knows no cause, he stands, all,\n",
            "That's to common many marder thanks;\n",
            "To have my mother, but the nurse, thanks, the waw\n",
            "I was a pale fallihanour, disinient,\n",
            "And my abtious single one that he be sose,\n",
            "Unstone the extreme the queen,\n",
            "At loss it for't made pact may belf,\n",
            "That question of suppect as they gods!\n",
            "\n",
            "GLOUCESTER:\n",
            "Sweet Kate, booe will I depite with as besorved,\n",
            "Were a bitter calms; and what my cheets, and your money wife,\n",
            "Which said where there's out with share myself,\n",
            "Tyear this, I believe the grace for herself be so dilded,\n",
            "Whom, termine thereon or,\n",
            "Sir God, my brother Milanowing babes\n",
            "My man and honour and with her,\n",
            "And saw your prides bloody \n"
          ],
          "name": "stdout"
        }
      ]
    },
    {
      "cell_type": "markdown",
      "metadata": {
        "id": "O9mUfLUyRfUl"
      },
      "source": [
        "Congratulations for completing this programming assignment! In the next week of the course we will see how to build customised models and layers, and make custom training loops."
      ]
    }
  ]
}